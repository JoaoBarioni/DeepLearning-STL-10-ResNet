{
  "cells": [
    {
      "cell_type": "markdown",
      "metadata": {
        "id": "view-in-github",
        "colab_type": "text"
      },
      "source": [
        "<a href=\"https://colab.research.google.com/github/JoaoBarioni/DeepLearning-STL-10-ResNet/blob/main/final.ipynb\" target=\"_parent\"><img src=\"https://colab.research.google.com/assets/colab-badge.svg\" alt=\"Open In Colab\"/></a>"
      ]
    },
    {
      "cell_type": "code",
      "execution_count": 38,
      "metadata": {
        "id": "AS-9M_1SjWWQ"
      },
      "outputs": [],
      "source": [
        "import torch\n",
        "import torch.nn as nn\n",
        "import torch.optim as optim\n",
        "from torch.optim.lr_scheduler import StepLR\n",
        "from torchvision import datasets, transforms, models\n",
        "from torch.utils.data import DataLoader"
      ]
    },
    {
      "cell_type": "code",
      "source": [],
      "metadata": {
        "id": "uteHqbcdr6T6"
      },
      "execution_count": null,
      "outputs": []
    },
    {
      "cell_type": "code",
      "execution_count": 39,
      "metadata": {
        "id": "NiSSU5hLjbPA"
      },
      "outputs": [],
      "source": [
        "\n",
        "class CustomResNet(nn.Module):\n",
        "    def __init__(self, num_classes=10):\n",
        "        super(CustomResNet, self).__init__()\n",
        "        self.resnet = models.resnet18(pretrained=True)\n",
        "        # Ajustar a última camada fully connected para o número de classes desejado\n",
        "        in_features = self.resnet.fc.in_features\n",
        "        self.resnet.fc = nn.Sequential(\n",
        "            nn.Linear(in_features, 512),\n",
        "            nn.ReLU(),\n",
        "            nn.Dropout(0.5),\n",
        "            nn.Linear(512, 256),\n",
        "            nn.ReLU(),\n",
        "            nn.Dropout(0.3),\n",
        "            nn.Linear(256, num_classes),\n",
        "            nn.Softmax(dim=1)\n",
        "        )\n",
        "\n",
        "    def forward(self, x):\n",
        "        return self.resnet(x)"
      ]
    },
    {
      "cell_type": "code",
      "execution_count": 40,
      "metadata": {
        "id": "O2V1wgi9nQU_"
      },
      "outputs": [],
      "source": [
        "# Transformações para o conjunto de dados STL-10\n",
        "transform_stl10 = transforms.Compose([\n",
        "    transforms.RandomHorizontalFlip(),\n",
        "    transforms.RandomRotation(10),\n",
        "    transforms.ToTensor(),\n",
        "    transforms.Normalize((0.5, 0.5, 0.5), (0.5, 0.5, 0.5))\n",
        "])\n"
      ]
    },
    {
      "cell_type": "code",
      "execution_count": 41,
      "metadata": {
        "id": "4H2hHMkYoW9K",
        "colab": {
          "base_uri": "https://localhost:8080/"
        },
        "outputId": "63efb6bf-f4ad-444c-d325-9f48f6729b02"
      },
      "outputs": [
        {
          "output_type": "stream",
          "name": "stdout",
          "text": [
            "Files already downloaded and verified\n",
            "Files already downloaded and verified\n"
          ]
        }
      ],
      "source": [
        "# Carregamento de dados STL-10\n",
        "train_dataset_stl10 = datasets.STL10(root='./data', split='train', download=True, transform=transform_stl10)\n",
        "test_dataset_stl10 = datasets.STL10(root='./data', split='test', download=True, transform=transform_stl10)\n",
        "\n",
        "train_loader_stl10 = DataLoader(train_dataset_stl10, batch_size=64, shuffle=True, num_workers=2)\n",
        "test_loader_stl10 = DataLoader(test_dataset_stl10, batch_size=64, shuffle=False, num_workers=2)\n"
      ]
    },
    {
      "cell_type": "code",
      "source": [
        "# Função para treinar o modelo\n",
        "def train_resnet(model, loader, optimizer, criterion):\n",
        "    model.train()\n",
        "    total_loss = 0.0\n",
        "    correct = 0\n",
        "    total = 0\n",
        "\n",
        "    for inputs, labels in loader:\n",
        "        inputs, labels = inputs.to(device), labels.to(device)\n",
        "\n",
        "        optimizer.zero_grad()\n",
        "        outputs = model(inputs)\n",
        "        loss = criterion(outputs, labels)\n",
        "        loss.backward()\n",
        "        optimizer.step()\n",
        "\n",
        "        total_loss += loss.item()\n",
        "\n",
        "        _, predicted = outputs.max(1)\n",
        "        total += labels.size(0)\n",
        "        correct += predicted.eq(labels).sum().item()\n",
        "\n",
        "    accuracy = 100 * correct / total\n",
        "    return total_loss / len(loader), accuracy\n"
      ],
      "metadata": {
        "id": "B_0QJUf6rdix"
      },
      "execution_count": 42,
      "outputs": []
    },
    {
      "cell_type": "code",
      "source": [
        "\n",
        "# Função para validar o modelo\n",
        "def validate_resnet(model, loader, criterion):\n",
        "    model.eval()\n",
        "    total_loss = 0.0\n",
        "    correct = 0\n",
        "    total = 0\n",
        "\n",
        "    with torch.no_grad():\n",
        "        for inputs, labels in loader:\n",
        "            inputs, labels = inputs.to(device), labels.to(device)\n",
        "\n",
        "            outputs = model(inputs)\n",
        "            loss = criterion(outputs, labels)\n",
        "\n",
        "            total_loss += loss.item()\n",
        "\n",
        "            _, predicted = outputs.max(1)\n",
        "            total += labels.size(0)\n",
        "            correct += predicted.eq(labels).sum().item()\n",
        "\n",
        "    accuracy = 100 * correct / total\n",
        "    return total_loss / len(loader), accuracy\n"
      ],
      "metadata": {
        "id": "p9fbxN3QrhA1"
      },
      "execution_count": 43,
      "outputs": []
    },
    {
      "cell_type": "code",
      "source": [],
      "metadata": {
        "id": "RaFwmcvjr_JS"
      },
      "execution_count": null,
      "outputs": []
    },
    {
      "cell_type": "code",
      "source": [
        "# Escolher otimizador, scheduler e função de perda como antes\n",
        "device = torch.device(\"cuda\" if torch.cuda.is_available() else \"cpu\")\n",
        "model_resnet = CustomResNet(num_classes=10).to(device)\n",
        "optimizer_resnet = optim.Adam(model_resnet.parameters(), lr=1e-4)\n",
        "scheduler_resnet = StepLR(optimizer_resnet, step_size=10, gamma=0.8)\n",
        "criterion_resnet = nn.CrossEntropyLoss()"
      ],
      "metadata": {
        "id": "rcVBzy5vrSul"
      },
      "execution_count": 44,
      "outputs": []
    },
    {
      "cell_type": "code",
      "execution_count": 45,
      "metadata": {
        "id": "iNdqps1UjdMU"
      },
      "outputs": [],
      "source": [
        "# Loop de treinamento e validação com cálculo de acurácia\n",
        "epochs_resnet = 50\n",
        "train_losses_resnet = []\n",
        "train_accuracies_resnet = []\n",
        "test_losses_resnet = []\n",
        "test_accuracies_resnet = []"
      ]
    },
    {
      "cell_type": "code",
      "execution_count": null,
      "metadata": {
        "colab": {
          "base_uri": "https://localhost:8080/"
        },
        "id": "DzGT0o7kjmIu",
        "outputId": "92adbb6e-d7c5-459f-f3b5-51ae9c790d8b"
      },
      "outputs": [
        {
          "output_type": "stream",
          "name": "stdout",
          "text": [
            "Epoch 1/50 => Train Loss: 2.1272, Train Accuracy: 39.26% | Test Loss: 1.8785, Test Accuracy: 57.00%\n",
            "Epoch 2/50 => Train Loss: 1.7840, Train Accuracy: 70.84% | Test Loss: 1.6694, Test Accuracy: 82.75%\n",
            "Epoch 3/50 => Train Loss: 1.6161, Train Accuracy: 86.44% | Test Loss: 1.6121, Test Accuracy: 85.21%\n",
            "Epoch 4/50 => Train Loss: 1.5828, Train Accuracy: 89.14% | Test Loss: 1.6136, Test Accuracy: 84.88%\n",
            "Epoch 5/50 => Train Loss: 1.5646, Train Accuracy: 90.24% | Test Loss: 1.5950, Test Accuracy: 86.72%\n",
            "Epoch 6/50 => Train Loss: 1.5494, Train Accuracy: 92.20% | Test Loss: 1.5977, Test Accuracy: 86.41%\n",
            "Epoch 7/50 => Train Loss: 1.5406, Train Accuracy: 92.54% | Test Loss: 1.5898, Test Accuracy: 87.29%\n",
            "Epoch 8/50 => Train Loss: 1.5315, Train Accuracy: 93.38% | Test Loss: 1.5890, Test Accuracy: 87.19%\n",
            "Epoch 9/50 => Train Loss: 1.5219, Train Accuracy: 94.28% | Test Loss: 1.5950, Test Accuracy: 86.61%\n",
            "Epoch 10/50 => Train Loss: 1.5206, Train Accuracy: 94.30% | Test Loss: 1.5896, Test Accuracy: 87.24%\n",
            "Epoch 11/50 => Train Loss: 1.5180, Train Accuracy: 94.58% | Test Loss: 1.5859, Test Accuracy: 87.58%\n",
            "Epoch 12/50 => Train Loss: 1.5079, Train Accuracy: 95.54% | Test Loss: 1.5829, Test Accuracy: 87.94%\n",
            "Epoch 13/50 => Train Loss: 1.5046, Train Accuracy: 95.88% | Test Loss: 1.5869, Test Accuracy: 87.49%\n",
            "Epoch 14/50 => Train Loss: 1.4948, Train Accuracy: 96.86% | Test Loss: 1.5771, Test Accuracy: 88.46%\n",
            "Epoch 15/50 => Train Loss: 1.4956, Train Accuracy: 96.74% | Test Loss: 1.5855, Test Accuracy: 87.55%\n",
            "Epoch 16/50 => Train Loss: 1.5038, Train Accuracy: 96.06% | Test Loss: 1.5773, Test Accuracy: 88.50%\n"
          ]
        }
      ],
      "source": [
        "for epoch in range(epochs_resnet):\n",
        "    train_loss, train_accuracy = train_resnet(model_resnet, train_loader_stl10, optimizer_resnet, criterion_resnet)\n",
        "    test_loss, test_accuracy = validate_resnet(model_resnet, test_loader_stl10, criterion_resnet)\n",
        "\n",
        "    scheduler_resnet.step()\n",
        "\n",
        "    train_losses_resnet.append(train_loss)\n",
        "    train_accuracies_resnet.append(train_accuracy)\n",
        "    test_losses_resnet.append(test_loss)\n",
        "    test_accuracies_resnet.append(test_accuracy)\n",
        "\n",
        "    print(f\"Epoch {epoch + 1}/{epochs_resnet} => \"\n",
        "          f\"Train Loss: {train_loss:.4f}, Train Accuracy: {train_accuracy:.2f}% | \"\n",
        "          f\"Test Loss: {test_loss:.4f}, Test Accuracy: {test_accuracy:.2f}%\")\n"
      ]
    }
  ],
  "metadata": {
    "colab": {
      "provenance": [],
      "authorship_tag": "ABX9TyMtlnv6Zz1qIYT0SUiQQEqg",
      "include_colab_link": true
    },
    "kernelspec": {
      "display_name": "Python 3",
      "name": "python3"
    },
    "language_info": {
      "name": "python"
    }
  },
  "nbformat": 4,
  "nbformat_minor": 0
}